{
 "cells": [
  {
   "cell_type": "code",
   "execution_count": 61,
   "metadata": {},
   "outputs": [
    {
     "name": "stdout",
     "output_type": "stream",
     "text": [
      "3.093476780647418e-32\n"
     ]
    }
   ],
   "source": [
    "from IPython.display import display, Math\n",
    "\n",
    "from qiskit.quantum_info import Statevector\n",
    "from qiskit.quantum_info.operators import Operator\n",
    "from qiskit.circuit.library import HGate\n",
    "\n",
    "from numpy import array, sqrt, exp, pi, log\n",
    "from scipy.constants import hbar, elementary_charge, electron_mass, speed_of_light\n",
    "from scipy.linalg import expm\n",
    "\n",
    "ep = array(Statevector(HGate())) # equal probability gate :3\n",
    "H = -1 * hbar * log(ep) / 1j\n",
    "mu_B = elementary_charge * hbar / 2 / electron_mass / speed_of_light # c because mgs units lol\n",
    "gamma_e = -1.76085963023e11\n"
   ]
  }
 ],
 "metadata": {
  "kernelspec": {
   "display_name": "Python 3",
   "language": "python",
   "name": "python3"
  },
  "language_info": {
   "codemirror_mode": {
    "name": "ipython",
    "version": 3
   },
   "file_extension": ".py",
   "mimetype": "text/x-python",
   "name": "python",
   "nbconvert_exporter": "python",
   "pygments_lexer": "ipython3",
   "version": "3.11.5"
  }
 },
 "nbformat": 4,
 "nbformat_minor": 2
}
